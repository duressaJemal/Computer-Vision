{
  "cells": [
    {
      "cell_type": "markdown",
      "metadata": {
        "id": "view-in-github",
        "colab_type": "text"
      },
      "source": [
        "<a href=\"https://colab.research.google.com/github/duressaJemal/Computer-Vision/blob/main/Computer_vision_Group_3.ipynb\" target=\"_parent\"><img src=\"https://colab.research.google.com/assets/colab-badge.svg\" alt=\"Open In Colab\"/></a>"
      ]
    },
    {
      "cell_type": "markdown",
      "metadata": {
        "id": "mxrvGGwV3jpe"
      },
      "source": [
        "# **Very Deep Convolutional Network(VGGNet)**\n",
        "\n",
        "PREPARED BY:\n",
        "\n",
        "1. DURESA JEMAL DEKEBO\t\t\t  UGR/3937/12\n",
        "2. ELSAI DERIBU SHUMI\t\t\t    UGR/0066/12\n",
        "3. ENDALE YOHANNES LARORO\t\t\tUGR/7379/12\n",
        "4. EPHREM ALEMAYEHU LEMMA\t\t\tUGR/4365/12\n",
        "\n",
        "---\n",
        "\n",
        "\n",
        "# **Background: Very Deep Convolutional Networks (VGGNet)**\n",
        "\n",
        "VGGNet, or Very Deep Convolutional Networks, was proposed by Karen Simonyan and Andrew Zisserman in 2014. It achieved remarkable performance on the ImageNet Large-Scale Visual Recognition Challenge (ILSVRC) 2014, which is a benchmark dataset for object recognition tasks.\n",
        "\n",
        "VGGNet was built upon the success of previous convolutional neural network (CNN) architectures, particularly the AlexNet. AlexNet introduced the concept of using deep convolutional neural networks for image classification tasks and demonstrated the benefits of large-scale convolutional networks. However, AlexNet used a relatively smaller network depth compared to VGGNet.\n",
        "\n",
        "VGGNet aimed to explore the impact of increased network depth on image classification tasks. By increasing the depth of the network, VGGNet sought to investigate whether the performance could be further improved. It also aimed to understand the role of network depth in capturing increasingly complex visual patterns and features.\n",
        "\n",
        "# VGGNet Architecture:\n",
        "\n",
        "**Network Depth:** VGGNet is known for its depth, with 16-19 layers in total. The increased depth enables the network to learn more complex features and capture detailed information from input images. By having a deeper network, VGGNet can potentially capture more abstract and high-level representations compared to its predecessor, AlexNet.\n",
        "\n",
        "**Convolutional Layers:** VGGNet employed a homogeneous architecture, using 3x3 convolutional filters with a stride of 1 pixel and a padding of 1 pixel throughout the network. By using small filters and the same padding, VGGNet ensures that the spatial resolution of the feature maps remains the same after each convolutional layer. This structure allows the network to learn more localized and detailed features.\n",
        "\n",
        "**Max Pooling Layers**: VGGNet utilized max-pooling layers with a 2x2 filter and a stride of 2 pixels. Max pooling reduces the spatial dimensions of the feature maps while retaining the most important features. It helps in capturing the hierarchical structure of the input and providing translation invariance. The use of max pooling was similar to AlexNet.\n",
        "\n",
        "**Fully Connected Layers:** The last few layers of VGGNet are fully connected layers. These layers take the output of the convolutional layers and produce the final class probabilities. VGGNet typically ends with three fully connected layers, followed by a softmax activation function to obtain class probabilities. The fully connected layers in VGGNet were similar to those in AlexNet.\n",
        "\n",
        "**Architecture Configurations:** VGGNet has several configurations, such as VGG16 and VGG19, based on the number of layers. VGG16 consists of 13 convolutional layers and three fully connected layers, while VGG19 has 16 convolutional layers and three fully connected layers. These configurations with increased depth demonstrated improved performance on the ImageNet dataset compared to its predecessor.\n",
        "\n",
        "The key differences between VGGNet and its predecessor, AlexNet, lie in the increased network depth and the use of homogeneous smaller filters (3x3) throughout the network. These modifications in VGGNet allowed for better feature extraction and improved performance on various computer vision tasks.\n",
        "\n",
        "In conclusion, VGGNet has made significant contributions to the field of computer vision. By introducing a very deep architecture and utilizing homogeneous convolutional layers, VGGNet has demonstrated the importance of network depth in capturing intricate visual patterns and features. Its remarkable performance on the ImageNet dataset has established VGGNet as a benchmark for image classification tasks. Moreover, VGGNet's influence can be seen in subsequent deep learning models, shaping the development of computer vision algorithms. With its advancements, VGGNet has propelled the field forward and continues to inspire further innovations in object recognition and other computer vision applications.\n"
      ]
    },
    {
      "cell_type": "code",
      "execution_count": 159,
      "metadata": {
        "id": "P_VPn-HUezDL"
      },
      "outputs": [],
      "source": [
        "# import the necessary packages\n",
        "import tensorflow as tf\n",
        "\n",
        "from sklearn.preprocessing import LabelBinarizer\n",
        "from sklearn.metrics import classification_report\n",
        "%matplotlib inline\n",
        "import matplotlib.pyplot as plt\n",
        "import numpy as np\n",
        "\n"
      ]
    },
    {
      "cell_type": "markdown",
      "source": [
        "## **Loading our Data**\n",
        "\n",
        "There are built in datasets from ```tensorflow.keras.datasets``` to load our data. We use the ```cifar10.load_data()``` function.\n",
        "\n",
        "Returns: **2 tuples**\n",
        "- x_train, x_test: uint8 array of RGB image data with shape (num_samples, 3, 32, 32) or (num_samples, 32, 32, 3) based on the image_data_format backend setting of either channels_first or channels_last respectively.\n",
        "- y_train, y_test: uint8 array of category labels (integers in range 0-9) with shape (num_samples, 1).\n",
        "\n",
        "- More info on available datases at https://keras.io/datasets/"
      ],
      "metadata": {
        "id": "UPSO84HqLSWb"
      }
    },
    {
      "cell_type": "code",
      "source": [
        "# load the training and testing data, then scale it into the range [0, 1]\n",
        "print(\"[INFO] loading CIFAR-10 data...\")\n",
        "data_set = tf.keras.datasets.cifar10.load_data()\n",
        "((trainX, trainY), (testX, testY)) = data_set\n",
        "trainX = trainX.astype(\"float\") / 255.0\n",
        "testX = testX.astype(\"float\") / 255.0\n",
        "print(\"Completed\")"
      ],
      "metadata": {
        "colab": {
          "base_uri": "https://localhost:8080/"
        },
        "id": "hQ6Tu-diyor7",
        "outputId": "454bc566-8b1d-4c61-9c6a-87360d46d722"
      },
      "execution_count": 162,
      "outputs": [
        {
          "output_type": "stream",
          "name": "stdout",
          "text": [
            "[INFO] loading CIFAR-10 data...\n",
            "Completed\n"
          ]
        }
      ]
    },
    {
      "cell_type": "markdown",
      "source": [
        "## **Inspecting our dataset**"
      ],
      "metadata": {
        "id": "g6998BbaMSge"
      }
    },
    {
      "cell_type": "code",
      "source": [
        "# Display the number of samples in x_train, x_test, y_train, y_test\n",
        "print(\"Initial shape or dimensions of x_train\", str(trainX.shape))\n",
        "\n",
        "# Print the number of samples in our data\n",
        "print (\"Number of samples in our training data: \" + str(len(trainX)))\n",
        "print (\"Number of labels in our training data: \" + str(len(trainY)))\n",
        "print (\"Number of samples in our test data: \" + str(len(testX)))\n",
        "print (\"Number of labels in our test data: \" + str(len(testY)))\n",
        "\n",
        "# Print the image dimensions and no. of labels in our Training and Test Data\n",
        "print(\"\\n\")\n",
        "print (\"Dimensions of x_train:\" + str(trainX[0].shape))\n",
        "print (\"Labels in x_train:\" + str(trainY.shape))\n",
        "print(\"\\n\")\n",
        "print (\"Dimensions of x_test:\" + str(testX[0].shape))\n",
        "print (\"Labels in y_test:\" + str(testY.shape))"
      ],
      "metadata": {
        "colab": {
          "base_uri": "https://localhost:8080/"
        },
        "id": "WSmYCfQkMY--",
        "outputId": "8bb931fd-3ce9-4c64-87fa-22a199378719"
      },
      "execution_count": 161,
      "outputs": [
        {
          "output_type": "stream",
          "name": "stdout",
          "text": [
            "Initial shape or dimensions of x_train (50000, 32, 32, 3)\n",
            "Number of samples in our training data: 50000\n",
            "Number of labels in our training data: 50000\n",
            "Number of samples in our test data: 10000\n",
            "Number of labels in our test data: 10000\n",
            "\n",
            "\n",
            "Dimensions of x_train:(32, 32, 3)\n",
            "Labels in x_train:(50000, 1)\n",
            "\n",
            "\n",
            "Dimensions of x_test:(32, 32, 3)\n",
            "Labels in y_test:(10000, 1)\n"
          ]
        }
      ]
    },
    {
      "cell_type": "markdown",
      "source": [
        "## **3. Visualizing our image dataset**\n",
        "\n",
        "Let's take a look at some of images in this dataset\n",
        "- Using OpenCV\n",
        "- Using Matplotlib"
      ],
      "metadata": {
        "id": "tgePwr9lNKVn"
      }
    },
    {
      "cell_type": "code",
      "source": [
        "# Using OpenCV\n",
        "# import opencv and numpy\n",
        "import cv2\n",
        "import numpy as np\n",
        "from matplotlib import pyplot as plt\n",
        "\n",
        "def imshow(title, image=None, size=6):\n",
        "    if image is not None:\n",
        "        plt.figure(figsize=(size, size))\n",
        "        plt.imshow(image, interpolation='nearest')\n",
        "        plt.title(title)\n",
        "        plt.axis('off')\n",
        "        plt.show()\n",
        "    else:\n",
        "        print(\"Image not found\")\n",
        "\n",
        "\n",
        "# Use OpenCV to display 6 random images from our dataset\n",
        "for i in range(0,6):\n",
        "    random_num = np.random.randint(0, len(trainX))\n",
        "    img = trainX[random_num]\n",
        "    imshow(\"Sample\", img, size = 2)"
      ],
      "metadata": {
        "colab": {
          "base_uri": "https://localhost:8080/",
          "height": 1000
        },
        "id": "3LnwQkvjNqrE",
        "outputId": "58946944-310b-41a1-d042-70de4d8e8fbd"
      },
      "execution_count": 156,
      "outputs": [
        {
          "output_type": "display_data",
          "data": {
            "text/plain": [
              "<Figure size 200x200 with 1 Axes>"
            ],
            "image/png": "[encoded data removed]"
          },
          "metadata": {}
        },
        {
          "output_type": "display_data",
          "data": {
            "text/plain": [
              "<Figure size 200x200 with 1 Axes>"
            ],
            "image/png": "[encoded data removed]"
          },
          "metadata": {}
        },
        {
          "output_type": "display_data",
          "data": {
            "text/plain": [
              "<Figure size 200x200 with 1 Axes>"
            ],
            "image/png": "[encoded data removed]"
          },
          "metadata": {}
        },
        {
          "output_type": "display_data",
          "data": {
            "text/plain": [
              "<Figure size 200x200 with 1 Axes>"
            ],
            "image/png": "[encoded data removed]"
          },
          "metadata": {}
        },
        {
          "output_type": "display_data",
          "data": {
            "text/plain": [
              "<Figure size 200x200 with 1 Axes>"
            ],
            "image/png": "[encoded data removed]"
          },
          "metadata": {}
        },
        {
          "output_type": "display_data",
          "data": {
            "text/plain": [
              "<Figure size 200x200 with 1 Axes>"
            ],
            "image/png": "[encoded data removed]"
          },
          "metadata": {}
        }
      ]
    },
    {
      "cell_type": "markdown",
      "source": [
        "## **5. Building Our Model**\n",
        "\n",
        "- We're constructing a simple but effective CNN that uses 32 filters of size 3x3\n",
        "- We've added a 2nd CONV layer of 64 filters of the same size 3x3\n",
        "- We then downsample our data to 2x2\n",
        "- We then flatten our Max Pool output that is connected to a Dense/FC layer that has an output size of 128\n",
        "- Then we connect our 128 outputs to another FC/Dense layer that outputs to the 10 categorical units"
      ],
      "metadata": {
        "id": "qqbRWqq1Q9nw"
      }
    },
    {
      "cell_type": "code",
      "source": [
        "class SmallVGGNetTF:\n",
        "\t@staticmethod\n",
        "\tdef build(width, height, depth, classes):\n",
        "\t\t# initialize the input shape and channel dimension, assuming\n",
        "\t\t# TensorFlow/channels-last ordering\n",
        "\t\tinputShape = (height, width, depth)\n",
        "\t\tchanDim = -1\n",
        "\n",
        "\t\t# define the model input\n",
        "\t\tinputs = tf.keras.layers.Input(shape=inputShape)\n",
        "\n",
        "\t\t# first (CONV => RELU) * 2 => POOL layer set\n",
        "\t\tx = tf.keras.layers.Conv2D(32, (3, 3), padding=\"same\")(inputs)\n",
        "\t\tx = tf.keras.layers.Activation(\"relu\")(x)\n",
        "\t\tx = tf.keras.layers.BatchNormalization(axis=chanDim)(x)\n",
        "\t\tx = tf.keras.layers.Conv2D(32, (3, 3), padding=\"same\")(x)\n",
        "\t\tx = tf.keras.layers.Activation(\"relu\")(x)\n",
        "\t\tx = tf.keras.layers.BatchNormalization(axis=chanDim)(x)\n",
        "\t\tx = tf.keras.layers.MaxPooling2D(pool_size=(2, 2))(x)\n",
        "\t\tx = tf.keras.layers.Dropout(0.25)(x)\n",
        "\n",
        "\t\t# second (CONV => RELU) * 2 => POOL layer set\n",
        "\t\tx = tf.keras.layers.Conv2D(64, (3, 3), padding=\"same\")(x)\n",
        "\t\tx = tf.keras.layers.Activation(\"relu\")(x)\n",
        "\t\tx = tf.keras.layers.BatchNormalization(axis=chanDim)(x)\n",
        "\t\tx = tf.keras.layers.Conv2D(64, (3, 3), padding=\"same\")(x)\n",
        "\t\tx = tf.keras.layers.Activation(\"relu\")(x)\n",
        "\t\tx = tf.keras.layers.BatchNormalization(axis=chanDim)(x)\n",
        "\t\tx = tf.keras.layers.MaxPooling2D(pool_size=(2, 2))(x)\n",
        "\t\tx = tf.keras.layers.Dropout(0.25)(x)\n",
        "\n",
        "\t\t# set of FC => RELU layers\n",
        "\t\tx = tf.keras.layers.Flatten()(x)\n",
        "\t\tx = tf.keras.layers.Dense(512)(x)\n",
        "\t\tx = tf.keras.layers.Activation(\"relu\")(x)\n",
        "\t\tx = tf.keras.layers.BatchNormalization()(x)\n",
        "\t\tx = tf.keras.layers.Dropout(0.5)(x)\n",
        "\n",
        "\t\t# softmax classifier\n",
        "\t\tx = tf.keras.layers.Dense(classes)(x)\n",
        "\t\tx = tf.keras.layers.Activation(\"softmax\")(x)\n",
        "\n",
        "\t\t# create the model\n",
        "\t\tmodel = tf.keras.models.Model(inputs, x, name=\"smallvggnet_tf\")\n",
        "\n",
        "\t\t# return the constructed network architecture\n",
        "\t\treturn model"
      ],
      "metadata": {
        "id": "LUZTQLl7Q8LH"
      },
      "execution_count": 163,
      "outputs": []
    },
    {
      "cell_type": "markdown",
      "source": [
        "## **Training our Model**\n",
        "- Our preprocessed data is used as the input\n",
        "- We set the batch size to 128 (or any number ranging from 8 to 256 is good)\n",
        "- We set the number of epochs to 2, this is just for this tutorial purpose, but a value for at least 10 should be used\n",
        "- We store our model's training results for plotting in future\n",
        "- We then use Kera's molel.evaluate function to output the model's final performance. Here we are examing Test Loss and Test Accuracy"
      ],
      "metadata": {
        "id": "LHEAZ7uURmAn"
      }
    },
    {
      "cell_type": "code",
      "source": [
        "# convert the labels from integers to vectors\n",
        "lb = LabelBinarizer()\n",
        "trainY = lb.fit_transform(trainY)\n",
        "testY = lb.transform(testY)\n",
        "\n",
        "# initialize the label names for the CIFAR-10 dataset\n",
        "labelNames = [\"airplane\", \"automobile\", \"bird\", \"cat\", \"deer\",\n",
        "\t\"dog\", \"frog\", \"horse\", \"ship\", \"truck\"]\n",
        "\n",
        "# initialize the learning rate, total number of epochs to train for, and batch size\n",
        "INIT_LR = 0.01\n",
        "EPOCHS = 6\n",
        "BS = 32\n"
      ],
      "metadata": {
        "id": "YVeHSFHJy6nl"
      },
      "execution_count": 169,
      "outputs": []
    },
    {
      "cell_type": "code",
      "source": [
        "# initialize the optimizer and model\n",
        "print(\"[INFO] compiling model...\")\n",
        "opt = tf.keras.optimizers.legacy.SGD(lr=INIT_LR, decay=INIT_LR / EPOCHS)\n",
        "model = SmallVGGNetTF.build(width=32, height=32, depth=3,\n",
        "\tclasses=len(labelNames))\n",
        "model.compile(loss=\"categorical_crossentropy\", optimizer=opt,\n",
        "\tmetrics=[\"accuracy\"])\n",
        "print(model.summary())\n",
        "\n",
        "\n"
      ],
      "metadata": {
        "colab": {
          "base_uri": "https://localhost:8080/"
        },
        "id": "uZnIdGLUy-eC",
        "outputId": "f79d63e0-66bf-4d46-dec3-a5e45c6a75c8"
      },
      "execution_count": 168,
      "outputs": [
        {
          "output_type": "stream",
          "name": "stdout",
          "text": [
            "[INFO] compiling model...\n"
          ]
        },
        {
          "output_type": "stream",
          "name": "stderr",
          "text": [
            "/usr/local/lib/python3.10/dist-packages/keras/src/optimizers/legacy/gradient_descent.py:114: UserWarning: The `lr` argument is deprecated, use `learning_rate` instead.\n",
            "  super().__init__(name, **kwargs)\n"
          ]
        },
        {
          "output_type": "stream",
          "name": "stdout",
          "text": [
            "Model: \"smallvggnet_tf\"\n",
            "_________________________________________________________________\n",
            " Layer (type)                Output Shape              Param #   \n",
            "=================================================================\n",
            " input_8 (InputLayer)        [(None, 32, 32, 3)]       0         \n",
            "                                                                 \n",
            " conv2d_28 (Conv2D)          (None, 32, 32, 32)        896       \n",
            "                                                                 \n",
            " activation_42 (Activation)  (None, 32, 32, 32)        0         \n",
            "                                                                 \n",
            " batch_normalization_35 (Ba  (None, 32, 32, 32)        128       \n",
            " tchNormalization)                                               \n",
            "                                                                 \n",
            " conv2d_29 (Conv2D)          (None, 32, 32, 32)        9248      \n",
            "                                                                 \n",
            " activation_43 (Activation)  (None, 32, 32, 32)        0         \n",
            "                                                                 \n",
            " batch_normalization_36 (Ba  (None, 32, 32, 32)        128       \n",
            " tchNormalization)                                               \n",
            "                                                                 \n",
            " max_pooling2d_14 (MaxPooli  (None, 16, 16, 32)        0         \n",
            " ng2D)                                                           \n",
            "                                                                 \n",
            " dropout_21 (Dropout)        (None, 16, 16, 32)        0         \n",
            "                                                                 \n",
            " conv2d_30 (Conv2D)          (None, 16, 16, 64)        18496     \n",
            "                                                                 \n",
            " activation_44 (Activation)  (None, 16, 16, 64)        0         \n",
            "                                                                 \n",
            " batch_normalization_37 (Ba  (None, 16, 16, 64)        256       \n",
            " tchNormalization)                                               \n",
            "                                                                 \n",
            " conv2d_31 (Conv2D)          (None, 16, 16, 64)        36928     \n",
            "                                                                 \n",
            " activation_45 (Activation)  (None, 16, 16, 64)        0         \n",
            "                                                                 \n",
            " batch_normalization_38 (Ba  (None, 16, 16, 64)        256       \n",
            " tchNormalization)                                               \n",
            "                                                                 \n",
            " max_pooling2d_15 (MaxPooli  (None, 8, 8, 64)          0         \n",
            " ng2D)                                                           \n",
            "                                                                 \n",
            " dropout_22 (Dropout)        (None, 8, 8, 64)          0         \n",
            "                                                                 \n",
            " flatten_7 (Flatten)         (None, 4096)              0         \n",
            "                                                                 \n",
            " dense_14 (Dense)            (None, 512)               2097664   \n",
            "                                                                 \n",
            " activation_46 (Activation)  (None, 512)               0         \n",
            "                                                                 \n",
            " batch_normalization_39 (Ba  (None, 512)               2048      \n",
            " tchNormalization)                                               \n",
            "                                                                 \n",
            " dropout_23 (Dropout)        (None, 512)               0         \n",
            "                                                                 \n",
            " dense_15 (Dense)            (None, 10)                5130      \n",
            "                                                                 \n",
            " activation_47 (Activation)  (None, 10)                0         \n",
            "                                                                 \n",
            "=================================================================\n",
            "Total params: 2171178 (8.28 MB)\n",
            "Trainable params: 2169770 (8.28 MB)\n",
            "Non-trainable params: 1408 (5.50 KB)\n",
            "_________________________________________________________________\n",
            "None\n"
          ]
        }
      ]
    },
    {
      "cell_type": "code",
      "source": [
        "# train the network\n",
        "print(\"[INFO] training network for {} epochs...\".format(EPOCHS))\n",
        "H = model.fit(trainX, trainY, validation_data=(testX, testY),\n",
        "\tbatch_size=BS, epochs=EPOCHS, verbose=1)"
      ],
      "metadata": {
        "colab": {
          "base_uri": "https://localhost:8080/"
        },
        "id": "xqtXai5mzI9P",
        "outputId": "f6b33dd7-5437-4db8-f757-707553a1fbf8"
      },
      "execution_count": null,
      "outputs": [
        {
          "output_type": "stream",
          "name": "stdout",
          "text": [
            "[INFO] training network for 6 epochs...\n",
            "Epoch 1/6\n",
            "1563/1563 [==============================] - 400s 255ms/step - loss: 1.7957 - accuracy: 0.4100 - val_loss: 1.2428 - val_accuracy: 0.5531\n",
            "Epoch 2/6\n",
            "1563/1563 [==============================] - 396s 253ms/step - loss: 1.3461 - accuracy: 0.5234 - val_loss: 1.2194 - val_accuracy: 0.5624\n",
            "Epoch 3/6\n",
            "1563/1563 [==============================] - 388s 248ms/step - loss: 1.2481 - accuracy: 0.5562 - val_loss: 1.0836 - val_accuracy: 0.6094\n",
            "Epoch 4/6\n",
            " 848/1563 [===============>..............] - ETA: 2:48 - loss: 1.2079 - accuracy: 0.5705"
          ]
        }
      ]
    },
    {
      "cell_type": "markdown",
      "source": [
        "##**Evaluation**"
      ],
      "metadata": {
        "id": "0n4JVpizSt7F"
      }
    },
    {
      "cell_type": "code",
      "source": [
        "# evaluate the network\n",
        "print(\"[INFO] evaluating network...\")\n",
        "predictions = model.predict(testX, batch_size=32)\n",
        "print(classification_report(testY.argmax(axis=1),\n",
        "\tpredictions.argmax(axis=1), target_names=labelNames))"
      ],
      "metadata": {
        "id": "bqAp6tcczMVf",
        "colab": {
          "base_uri": "https://localhost:8080/"
        },
        "outputId": "93aceaa1-79f6-4dc9-d04e-5d3b7eb4ee52"
      },
      "execution_count": 138,
      "outputs": [
        {
          "output_type": "stream",
          "name": "stdout",
          "text": [
            "[INFO] evaluating network...\n",
            "313/313 [==============================] - 19s 60ms/step\n",
            "              precision    recall  f1-score   support\n",
            "\n",
            "    airplane       0.00      0.00      0.00      1000\n",
            "  automobile       0.10      0.92      0.17      1000\n",
            "        bird       0.03      0.00      0.00      1000\n",
            "         cat       0.00      0.00      0.00      1000\n",
            "        deer       0.00      0.00      0.00      1000\n",
            "         dog       0.00      0.00      0.00      1000\n",
            "        frog       0.01      0.00      0.00      1000\n",
            "       horse       0.00      0.00      0.00      1000\n",
            "        ship       0.00      0.00      0.00      1000\n",
            "       truck       0.08      0.02      0.03      1000\n",
            "\n",
            "    accuracy                           0.09     10000\n",
            "   macro avg       0.02      0.09      0.02     10000\n",
            "weighted avg       0.02      0.09      0.02     10000\n",
            "\n"
          ]
        },
        {
          "output_type": "stream",
          "name": "stderr",
          "text": [
            "/usr/local/lib/python3.10/dist-packages/sklearn/metrics/_classification.py:1344: UndefinedMetricWarning: Precision and F-score are ill-defined and being set to 0.0 in labels with no predicted samples. Use `zero_division` parameter to control this behavior.\n",
            "  _warn_prf(average, modifier, msg_start, len(result))\n",
            "/usr/local/lib/python3.10/dist-packages/sklearn/metrics/_classification.py:1344: UndefinedMetricWarning: Precision and F-score are ill-defined and being set to 0.0 in labels with no predicted samples. Use `zero_division` parameter to control this behavior.\n",
            "  _warn_prf(average, modifier, msg_start, len(result))\n",
            "/usr/local/lib/python3.10/dist-packages/sklearn/metrics/_classification.py:1344: UndefinedMetricWarning: Precision and F-score are ill-defined and being set to 0.0 in labels with no predicted samples. Use `zero_division` parameter to control this behavior.\n",
            "  _warn_prf(average, modifier, msg_start, len(result))\n"
          ]
        }
      ]
    },
    {
      "cell_type": "markdown",
      "source": [
        "##**Ploting our Loss and Accuracy Charts**\n",
        "\n",
        "\n"
      ],
      "metadata": {
        "id": "NVO3pe2lHjgg"
      }
    },
    {
      "cell_type": "code",
      "source": [
        "history_dict = H.history\n",
        "history_dict"
      ],
      "metadata": {
        "colab": {
          "base_uri": "https://localhost:8080/"
        },
        "id": "r_vObNkiIE95",
        "outputId": "ef8ab37f-2fb3-4a58-c46a-1cfe6445e47a"
      },
      "execution_count": null,
      "outputs": [
        {
          "output_type": "execute_result",
          "data": {
            "text/plain": [
              "{'loss': [2.0581557750701904],\n",
              " 'accuracy': [0.3614000082015991],\n",
              " 'val_loss': [1.4454106092453003],\n",
              " 'val_accuracy': [0.4909999966621399]}"
            ]
          },
          "metadata": {},
          "execution_count": 99
        }
      ]
    },
    {
      "cell_type": "code",
      "execution_count": null,
      "metadata": {
        "colab": {
          "base_uri": "https://localhost:8080/",
          "height": 453
        },
        "id": "fwFfO4G3ecM0",
        "outputId": "ba7f0b45-d7e2-4845-f39d-e78908d94cc9"
      },
      "outputs": [
        {
          "output_type": "display_data",
          "data": {
            "text/plain": [
              "<Figure size 640x480 with 1 Axes>"
            ],
            "image/png": "[encoded data removed]"
          },
          "metadata": {}
        }
      ],
      "source": [
        "# Plotting our loss charts\n",
        "\n",
        "# Use the History object we created to get our saved performance results\n",
        "history_dict = H.history\n",
        "\n",
        "# Extract the loss and validation losses\n",
        "loss_values = history_dict['loss']\n",
        "val_loss_values = history_dict['val_loss']\n",
        "\n",
        "# Get the number of epochs and create an array up to that number using range()\n",
        "epochs = range(1, len(loss_values) + 1)\n",
        "\n",
        "# Plot line charts for both Validation and Training Loss\n",
        "line1 = plt.plot(epochs, val_loss_values, label='Validation/Test Loss')\n",
        "line2 = plt.plot(epochs, loss_values, label='Training Loss')\n",
        "plt.setp(line1, linewidth=2.0, marker = '+', markersize=10.0)\n",
        "plt.setp(line2, linewidth=2.0, marker = '4', markersize=10.0)\n",
        "plt.xlabel('Epochs')\n",
        "plt.ylabel('Loss')\n",
        "plt.grid(True)\n",
        "plt.legend()\n",
        "plt.show()"
      ]
    },
    {
      "cell_type": "markdown",
      "source": [
        "#### **Our Accuracy Charts**"
      ],
      "metadata": {
        "id": "q-KYVjEAI82W"
      }
    },
    {
      "cell_type": "code",
      "source": [
        "# Plotting our accuracy charts\n",
        "\n",
        "history_dict = H.history\n",
        "\n",
        "acc_values = history_dict['accuracy']\n",
        "val_acc_values = history_dict['val_accuracy']\n",
        "loss_values = history_dict['loss']\n",
        "\n",
        "epochs = range(1, len(loss_values) + 1)\n",
        "\n",
        "line1 = plt.plot(epochs, val_acc_values, label='Validation/Test Accuracy')\n",
        "line2 = plt.plot(epochs, acc_values, label='Training Accuracy')\n",
        "plt.setp(line1, linewidth=2.0, marker = '+', markersize=10.0)\n",
        "plt.setp(line2, linewidth=2.0, marker = '4', markersize=10.0)\n",
        "plt.xlabel('Epochs')\n",
        "plt.ylabel('Accuracy')\n",
        "plt.grid(True)\n",
        "plt.legend()\n",
        "plt.show()"
      ],
      "metadata": {
        "id": "SfJrjF497EE2",
        "colab": {
          "base_uri": "https://localhost:8080/",
          "height": 453
        },
        "outputId": "88097557-6143-4d65-9a4b-aa9dc5a3ee57"
      },
      "execution_count": null,
      "outputs": [
        {
          "output_type": "display_data",
          "data": {
            "text/plain": [
              "<Figure size 640x480 with 1 Axes>"
            ],
            "image/png": "[encoded data removed]"
          },
          "metadata": {}
        }
      ]
    },
    {
      "cell_type": "markdown",
      "source": [
        "## **Saving and Loadng our Model**\n",
        "\n",
        "**Saving our Model is simple, just use:**\n",
        "\n",
        " ```model.save(\"model_file_name.h5\")```"
      ],
      "metadata": {
        "id": "YVg6V695Iwph"
      }
    },
    {
      "cell_type": "code",
      "source": [
        "model.save(\"cifar10_cnn_1_Epochs.h5\")\n",
        "print(\"Model Saved\")"
      ],
      "metadata": {
        "colab": {
          "base_uri": "https://localhost:8080/"
        },
        "id": "YIMtMHYCJTZn",
        "outputId": "46eb27c0-313a-4cc3-def1-1c0bc3fc2eac"
      },
      "execution_count": 139,
      "outputs": [
        {
          "output_type": "stream",
          "name": "stdout",
          "text": [
            "Model Saved\n"
          ]
        },
        {
          "output_type": "stream",
          "name": "stderr",
          "text": [
            "/usr/local/lib/python3.10/dist-packages/keras/src/engine/training.py:3103: UserWarning: You are saving your model as an HDF5 file via `model.save()`. This file format is considered legacy. We recommend using instead the native Keras format, e.g. `model.save('my_model.keras')`.\n",
            "  saving_api.save_model(\n"
          ]
        }
      ]
    },
    {
      "cell_type": "code",
      "source": [
        "# We need to import our load_model function\n",
        "classifier = tf.keras.models.load_model('cifar10_cnn_1_Epochs.h5')"
      ],
      "metadata": {
        "id": "K-NceaUJJrDa"
      },
      "execution_count": 140,
      "outputs": []
    },
    {
      "cell_type": "markdown",
      "source": [
        "##  **9. Getting Predictions from our sample Test Data**\n",
        "\n",
        "**Predicting all test data**"
      ],
      "metadata": {
        "id": "XjTrRjkLT4Wt"
      }
    },
    {
      "cell_type": "code",
      "source": [
        "#x_test = x_test.reshape(10000,28,28,1)\n",
        "print(testX.shape)\n",
        "\n",
        "print(\"Predicting classes for all 10,000 test images...\")\n",
        "\n",
        "pred = np.argmax(classifier.predict(testX), axis=-1)\n",
        "print(\"Completed.\\n\")\n",
        "\n",
        "print(pred)\n",
        "print(type(pred))\n",
        "print(len(pred))"
      ],
      "metadata": {
        "colab": {
          "base_uri": "https://localhost:8080/"
        },
        "id": "PXvnn258T68D",
        "outputId": "3d254084-0ad3-4323-d8f4-b4bcddf1c52c"
      },
      "execution_count": 141,
      "outputs": [
        {
          "output_type": "stream",
          "name": "stdout",
          "text": [
            "(10000, 32, 32, 3)\n",
            "Predicting classes for all 10,000 test images...\n",
            "313/313 [==============================] - 23s 74ms/step\n",
            "Completed.\n",
            "\n",
            "[1 1 1 ... 1 1 1]\n",
            "<class 'numpy.ndarray'>\n",
            "10000\n"
          ]
        }
      ]
    },
    {
      "cell_type": "markdown",
      "source": [
        "**Predicting an individual test image**"
      ],
      "metadata": {
        "id": "R2ckJWVUUbPl"
      }
    },
    {
      "cell_type": "code",
      "source": [
        "# Get the first image by index 0 of x_test and show it's shape\n",
        "input_im = testX[0]\n",
        "print(input_im.shape)\n",
        "\n",
        "# Add a 4th dimension to indicate batch size of 1\n",
        "input_im = np.expand_dims(input_im, axis=0)\n",
        "print(input_im.shape)\n",
        "\n",
        "# We now get the predictions for that single image\n",
        "pred = np.argmax(classifier.predict(input_im), axis=-1)\n",
        "print(pred)\n",
        "print(type(pred))\n",
        "print(len(pred))"
      ],
      "metadata": {
        "colab": {
          "base_uri": "https://localhost:8080/"
        },
        "id": "pvQYCcqYUgbP",
        "outputId": "fcb5b20c-2876-417f-feef-370a691077c6"
      },
      "execution_count": 157,
      "outputs": [
        {
          "output_type": "stream",
          "name": "stdout",
          "text": [
            "(32, 32, 3)\n",
            "(1, 32, 32, 3)\n",
            "1/1 [==============================] - 0s 54ms/step\n",
            "[1]\n",
            "<class 'numpy.ndarray'>\n",
            "1\n"
          ]
        }
      ]
    },
    {
      "cell_type": "markdown",
      "source": [
        "### **Let's put the predicted label on an image with the test data image**"
      ],
      "metadata": {
        "id": "xGYgwgBPWKB_"
      }
    },
    {
      "cell_type": "code",
      "source": [
        "num_images_to_display = 5\n",
        "selected_indices = np.random.choice(len(testX), num_images_to_display, replace=False)\n",
        "selected_images = testX[selected_indices]\n",
        "selected_predictions = predictions[selected_indices]\n",
        "\n",
        "num_cols = 2\n",
        "num_rows = (num_images_to_display + num_cols - 1) // num_cols # Calculate the number of columns\n",
        "\n",
        "\n",
        "plt.figure(figsize=(12, 6))\n",
        "for i in range(num_images_to_display):\n",
        "    plt.subplot(num_rows, num_cols, i + 1)\n",
        "    plt.imshow(selected_images[i])\n",
        "    plt.axis('off')\n",
        "    predicted_class = labelNames[selected_predictions[i].argmax()]\n",
        "    plt.title(f\"Predicted: {predicted_class}\")\n",
        "\n",
        "plt.tight_layout()  # Adjust the layout to prevent overlap\n",
        "plt.show()"
      ],
      "metadata": {
        "id": "xcEuYlri2tK_",
        "colab": {
          "base_uri": "https://localhost:8080/",
          "height": 607
        },
        "outputId": "e327a531-567b-46d1-829d-dd3f92c408e2"
      },
      "execution_count": 158,
      "outputs": [
        {
          "output_type": "display_data",
          "data": {
            "text/plain": [
              "<Figure size 1200x600 with 5 Axes>"
            ],
            "image/png": "[encoded data removed]"
          },
          "metadata": {}
        }
      ]
    },
    {
      "cell_type": "code",
      "source": [],
      "metadata": {
        "id": "-uVh_8jc_fD4"
      },
      "execution_count": 152,
      "outputs": []
    }
  ],
  "metadata": {
    "colab": {
      "provenance": [],
      "include_colab_link": true
    },
    "kernelspec": {
      "display_name": "Python 3",
      "name": "python3"
    },
    "language_info": {
      "name": "python"
    }
  },
  "nbformat": 4,
  "nbformat_minor": 0
}